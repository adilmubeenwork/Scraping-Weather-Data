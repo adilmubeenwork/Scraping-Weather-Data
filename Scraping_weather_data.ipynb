{
  "nbformat": 4,
  "nbformat_minor": 0,
  "metadata": {
    "colab": {
      "name": "Scraping-weather-data.ipynb",
      "provenance": [],
      "collapsed_sections": []
    },
    "kernelspec": {
      "name": "python3",
      "display_name": "Python 3"
    },
    "language_info": {
      "name": "python"
    }
  },
  "cells": [
    {
      "cell_type": "code",
      "execution_count": null,
      "metadata": {
        "id": "K5SNyguioo-v"
      },
      "outputs": [],
      "source": [
        "import requests\n",
        "import json\n",
        "from datetime import date, timedelta\n",
        "\n",
        "import pandas as pd\n",
        "  \n",
        "# specify the start date is 2021 jan 1 st\n",
        "# specify the emd date is 2021 feb 1 st\n",
        "a = pd.date_range(start='2019-01-01', end='2019-04-30')\n",
        "  \n",
        "# display only date using date() function\n",
        "for i in a:\n",
        "    day = i.date()\n",
        "    for h in range(24):\n",
        "      URL = 'http://api.weatherapi.com/v1/history.json?key=029d14934bba485f91f132813222006&q=48.514130,9.219850' + '&dt=' + str(day) + '&hour=' + str(h)\n",
        "      #print(URL)\n",
        "      response = requests.get(URL)\n",
        "      response_dict = json.loads(response.text)\n",
        "      #print(response_dict)\n",
        "      temp_maxc = response_dict['forecast']['forecastday'][0]['day']['maxtemp_c']\n",
        "      temp_minc = response_dict['forecast']['forecastday'][0]['day']['mintemp_c']\n",
        "      totalpercip_mm = response_dict['forecast']['forecastday'][0]['day']['totalprecip_mm']\n",
        "      day_text = response_dict['forecast']['forecastday'][0]['day']['condition']['text']\n",
        "      hour_tempc = response_dict['forecast']['forecastday'][0]['hour'][0]['temp_c']\n",
        "      hour_text = response_dict['forecast']['forecastday'][0]['hour'][0]['condition']['text']\n",
        "      hour_percipmm = response_dict['forecast']['forecastday'][0]['hour'][0]['precip_mm']\n",
        "      will_rain = response_dict['forecast']['forecastday'][0]['hour'][0]['will_it_rain']\n",
        "      chance_rain = response_dict['forecast']['forecastday'][0]['hour'][0]['chance_of_rain']\n",
        "      will_snow = response_dict['forecast']['forecastday'][0]['hour'][0]['will_it_snow']\n",
        "      chance_snow = response_dict['forecast']['forecastday'][0]['hour'][0]['chance_of_snow']\n",
        "      feels_like = response_dict['forecast']['forecastday'][0]['hour'][0]['feelslike_c']\n",
        "      #print(temp_c)\n",
        "      import pandas as pd  \n",
        "      df = pd.DataFrame(columns=[\"Date\", \"time\", \"temp in C\"])\n",
        "      if h < 10:\n",
        "        h = '0' + str(h) + ':00,'\n",
        "        #print(day, h, temp_maxc, temp_minc, totalpercip_mm)\n",
        "      else:\n",
        "        h =  str(h) + ':00,'\n",
        "      print(day,h, temp_maxc,',', temp_minc,',', totalpercip_mm,',', day_text,',', hour_tempc,',', hour_text,',', hour_percipmm,',', will_rain,',', chance_rain,',', will_snow,',', chance_snow,',', feels_like)\n",
        " "
      ]
    }
  ]
}